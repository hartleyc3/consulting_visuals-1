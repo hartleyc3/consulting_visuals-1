{
 "cells": [
  {
   "cell_type": "code",
   "execution_count": 1,
   "metadata": {
    "ExecuteTime": {
     "end_time": "2020-11-09T20:35:46.737585Z",
     "start_time": "2020-11-09T20:35:44.996685Z"
    }
   },
   "outputs": [],
   "source": [
    "import pandas as pd\n",
    "import data_work \n",
    "\n",
    "import matplotlib.pyplot as plt\n",
    "import matplotlib.ticker as mtick\n"
   ]
  },
  {
   "cell_type": "code",
   "execution_count": 2,
   "metadata": {
    "ExecuteTime": {
     "end_time": "2020-11-09T20:35:46.808397Z",
     "start_time": "2020-11-09T20:35:46.745566Z"
    }
   },
   "outputs": [
    {
     "data": {
      "text/html": [
       "<div>\n",
       "<style scoped>\n",
       "    .dataframe tbody tr th:only-of-type {\n",
       "        vertical-align: middle;\n",
       "    }\n",
       "\n",
       "    .dataframe tbody tr th {\n",
       "        vertical-align: top;\n",
       "    }\n",
       "\n",
       "    .dataframe thead th {\n",
       "        text-align: right;\n",
       "    }\n",
       "</style>\n",
       "<table border=\"1\" class=\"dataframe\">\n",
       "  <thead>\n",
       "    <tr style=\"text-align: right;\">\n",
       "      <th></th>\n",
       "      <th>contract_id</th>\n",
       "      <th>contract_start</th>\n",
       "      <th>contract_term</th>\n",
       "      <th>deposit</th>\n",
       "      <th>monthly_amt</th>\n",
       "      <th>company</th>\n",
       "      <th>sector</th>\n",
       "      <th>industry</th>\n",
       "      <th>email</th>\n",
       "      <th>address</th>\n",
       "      <th>city</th>\n",
       "      <th>state</th>\n",
       "      <th>zip</th>\n",
       "    </tr>\n",
       "    <tr>\n",
       "      <th>customer_id</th>\n",
       "      <th></th>\n",
       "      <th></th>\n",
       "      <th></th>\n",
       "      <th></th>\n",
       "      <th></th>\n",
       "      <th></th>\n",
       "      <th></th>\n",
       "      <th></th>\n",
       "      <th></th>\n",
       "      <th></th>\n",
       "      <th></th>\n",
       "      <th></th>\n",
       "      <th></th>\n",
       "    </tr>\n",
       "  </thead>\n",
       "  <tbody>\n",
       "    <tr>\n",
       "      <th>1</th>\n",
       "      <td>41</td>\n",
       "      <td>5/31/19</td>\n",
       "      <td>24</td>\n",
       "      <td>$86,000.00</td>\n",
       "      <td>$11,200.00</td>\n",
       "      <td>Bubblebox</td>\n",
       "      <td>Capital Goods</td>\n",
       "      <td>Military/Government/Technical</td>\n",
       "      <td>kyerson0@bizjournals.com</td>\n",
       "      <td>76 Randy Circle</td>\n",
       "      <td>San Diego</td>\n",
       "      <td>CA</td>\n",
       "      <td>92170</td>\n",
       "    </tr>\n",
       "    <tr>\n",
       "      <th>1</th>\n",
       "      <td>358</td>\n",
       "      <td>6/18/19</td>\n",
       "      <td>13</td>\n",
       "      <td>$74,000.00</td>\n",
       "      <td>$19,000.00</td>\n",
       "      <td>Bubblebox</td>\n",
       "      <td>Capital Goods</td>\n",
       "      <td>Military/Government/Technical</td>\n",
       "      <td>kyerson0@bizjournals.com</td>\n",
       "      <td>76 Randy Circle</td>\n",
       "      <td>San Diego</td>\n",
       "      <td>CA</td>\n",
       "      <td>92170</td>\n",
       "    </tr>\n",
       "    <tr>\n",
       "      <th>1</th>\n",
       "      <td>400</td>\n",
       "      <td>8/11/19</td>\n",
       "      <td>19</td>\n",
       "      <td>$38,000.00</td>\n",
       "      <td>$8,800.00</td>\n",
       "      <td>Bubblebox</td>\n",
       "      <td>Capital Goods</td>\n",
       "      <td>Military/Government/Technical</td>\n",
       "      <td>kyerson0@bizjournals.com</td>\n",
       "      <td>76 Randy Circle</td>\n",
       "      <td>San Diego</td>\n",
       "      <td>CA</td>\n",
       "      <td>92170</td>\n",
       "    </tr>\n",
       "    <tr>\n",
       "      <th>1</th>\n",
       "      <td>424</td>\n",
       "      <td>3/13/19</td>\n",
       "      <td>15</td>\n",
       "      <td>$77,000.00</td>\n",
       "      <td>$14,300.00</td>\n",
       "      <td>Bubblebox</td>\n",
       "      <td>Capital Goods</td>\n",
       "      <td>Military/Government/Technical</td>\n",
       "      <td>kyerson0@bizjournals.com</td>\n",
       "      <td>76 Randy Circle</td>\n",
       "      <td>San Diego</td>\n",
       "      <td>CA</td>\n",
       "      <td>92170</td>\n",
       "    </tr>\n",
       "    <tr>\n",
       "      <th>1</th>\n",
       "      <td>438</td>\n",
       "      <td>10/16/19</td>\n",
       "      <td>22</td>\n",
       "      <td>$39,000.00</td>\n",
       "      <td>$20,000.00</td>\n",
       "      <td>Bubblebox</td>\n",
       "      <td>Capital Goods</td>\n",
       "      <td>Military/Government/Technical</td>\n",
       "      <td>kyerson0@bizjournals.com</td>\n",
       "      <td>76 Randy Circle</td>\n",
       "      <td>San Diego</td>\n",
       "      <td>CA</td>\n",
       "      <td>92170</td>\n",
       "    </tr>\n",
       "  </tbody>\n",
       "</table>\n",
       "</div>"
      ],
      "text/plain": [
       "             contract_id contract_start  contract_term      deposit  \\\n",
       "customer_id                                                           \n",
       "1                     41        5/31/19             24  $86,000.00    \n",
       "1                    358        6/18/19             13  $74,000.00    \n",
       "1                    400        8/11/19             19  $38,000.00    \n",
       "1                    424        3/13/19             15  $77,000.00    \n",
       "1                    438       10/16/19             22  $39,000.00    \n",
       "\n",
       "             monthly_amt    company         sector  \\\n",
       "customer_id                                          \n",
       "1            $11,200.00   Bubblebox  Capital Goods   \n",
       "1            $19,000.00   Bubblebox  Capital Goods   \n",
       "1             $8,800.00   Bubblebox  Capital Goods   \n",
       "1            $14,300.00   Bubblebox  Capital Goods   \n",
       "1            $20,000.00   Bubblebox  Capital Goods   \n",
       "\n",
       "                                  industry                     email  \\\n",
       "customer_id                                                            \n",
       "1            Military/Government/Technical  kyerson0@bizjournals.com   \n",
       "1            Military/Government/Technical  kyerson0@bizjournals.com   \n",
       "1            Military/Government/Technical  kyerson0@bizjournals.com   \n",
       "1            Military/Government/Technical  kyerson0@bizjournals.com   \n",
       "1            Military/Government/Technical  kyerson0@bizjournals.com   \n",
       "\n",
       "                     address       city state    zip  \n",
       "customer_id                                           \n",
       "1            76 Randy Circle  San Diego    CA  92170  \n",
       "1            76 Randy Circle  San Diego    CA  92170  \n",
       "1            76 Randy Circle  San Diego    CA  92170  \n",
       "1            76 Randy Circle  San Diego    CA  92170  \n",
       "1            76 Randy Circle  San Diego    CA  92170  "
      ]
     },
     "execution_count": 2,
     "metadata": {},
     "output_type": "execute_result"
    }
   ],
   "source": [
    "df = data_work.load_data()\n",
    "df.head()"
   ]
  },
  {
   "cell_type": "code",
   "execution_count": 3,
   "metadata": {
    "ExecuteTime": {
     "end_time": "2020-11-09T20:35:46.878210Z",
     "start_time": "2020-11-09T20:35:46.812386Z"
    },
    "scrolled": false
   },
   "outputs": [
    {
     "data": {
      "text/html": [
       "<div>\n",
       "<style scoped>\n",
       "    .dataframe tbody tr th:only-of-type {\n",
       "        vertical-align: middle;\n",
       "    }\n",
       "\n",
       "    .dataframe tbody tr th {\n",
       "        vertical-align: top;\n",
       "    }\n",
       "\n",
       "    .dataframe thead th {\n",
       "        text-align: right;\n",
       "    }\n",
       "</style>\n",
       "<table border=\"1\" class=\"dataframe\">\n",
       "  <thead>\n",
       "    <tr style=\"text-align: right;\">\n",
       "      <th></th>\n",
       "      <th>contract_id</th>\n",
       "      <th>contract_start</th>\n",
       "      <th>contract_term</th>\n",
       "      <th>deposit</th>\n",
       "      <th>monthly_amt</th>\n",
       "      <th>company</th>\n",
       "      <th>sector</th>\n",
       "      <th>industry</th>\n",
       "      <th>email</th>\n",
       "      <th>address</th>\n",
       "      <th>city</th>\n",
       "      <th>state</th>\n",
       "      <th>zip</th>\n",
       "    </tr>\n",
       "    <tr>\n",
       "      <th>customer_id</th>\n",
       "      <th></th>\n",
       "      <th></th>\n",
       "      <th></th>\n",
       "      <th></th>\n",
       "      <th></th>\n",
       "      <th></th>\n",
       "      <th></th>\n",
       "      <th></th>\n",
       "      <th></th>\n",
       "      <th></th>\n",
       "      <th></th>\n",
       "      <th></th>\n",
       "      <th></th>\n",
       "    </tr>\n",
       "  </thead>\n",
       "  <tbody>\n",
       "    <tr>\n",
       "      <th>1</th>\n",
       "      <td>41</td>\n",
       "      <td>5/31/19</td>\n",
       "      <td>24</td>\n",
       "      <td>86000.0</td>\n",
       "      <td>11200.0</td>\n",
       "      <td>Bubblebox</td>\n",
       "      <td>Capital Goods</td>\n",
       "      <td>Military/Government/Technical</td>\n",
       "      <td>kyerson0@bizjournals.com</td>\n",
       "      <td>76 Randy Circle</td>\n",
       "      <td>San Diego</td>\n",
       "      <td>CA</td>\n",
       "      <td>92170</td>\n",
       "    </tr>\n",
       "    <tr>\n",
       "      <th>1</th>\n",
       "      <td>358</td>\n",
       "      <td>6/18/19</td>\n",
       "      <td>13</td>\n",
       "      <td>74000.0</td>\n",
       "      <td>19000.0</td>\n",
       "      <td>Bubblebox</td>\n",
       "      <td>Capital Goods</td>\n",
       "      <td>Military/Government/Technical</td>\n",
       "      <td>kyerson0@bizjournals.com</td>\n",
       "      <td>76 Randy Circle</td>\n",
       "      <td>San Diego</td>\n",
       "      <td>CA</td>\n",
       "      <td>92170</td>\n",
       "    </tr>\n",
       "    <tr>\n",
       "      <th>1</th>\n",
       "      <td>400</td>\n",
       "      <td>8/11/19</td>\n",
       "      <td>19</td>\n",
       "      <td>38000.0</td>\n",
       "      <td>8800.0</td>\n",
       "      <td>Bubblebox</td>\n",
       "      <td>Capital Goods</td>\n",
       "      <td>Military/Government/Technical</td>\n",
       "      <td>kyerson0@bizjournals.com</td>\n",
       "      <td>76 Randy Circle</td>\n",
       "      <td>San Diego</td>\n",
       "      <td>CA</td>\n",
       "      <td>92170</td>\n",
       "    </tr>\n",
       "    <tr>\n",
       "      <th>1</th>\n",
       "      <td>424</td>\n",
       "      <td>3/13/19</td>\n",
       "      <td>15</td>\n",
       "      <td>77000.0</td>\n",
       "      <td>14300.0</td>\n",
       "      <td>Bubblebox</td>\n",
       "      <td>Capital Goods</td>\n",
       "      <td>Military/Government/Technical</td>\n",
       "      <td>kyerson0@bizjournals.com</td>\n",
       "      <td>76 Randy Circle</td>\n",
       "      <td>San Diego</td>\n",
       "      <td>CA</td>\n",
       "      <td>92170</td>\n",
       "    </tr>\n",
       "    <tr>\n",
       "      <th>1</th>\n",
       "      <td>438</td>\n",
       "      <td>10/16/19</td>\n",
       "      <td>22</td>\n",
       "      <td>39000.0</td>\n",
       "      <td>20000.0</td>\n",
       "      <td>Bubblebox</td>\n",
       "      <td>Capital Goods</td>\n",
       "      <td>Military/Government/Technical</td>\n",
       "      <td>kyerson0@bizjournals.com</td>\n",
       "      <td>76 Randy Circle</td>\n",
       "      <td>San Diego</td>\n",
       "      <td>CA</td>\n",
       "      <td>92170</td>\n",
       "    </tr>\n",
       "  </tbody>\n",
       "</table>\n",
       "</div>"
      ],
      "text/plain": [
       "             contract_id contract_start  contract_term  deposit  monthly_amt  \\\n",
       "customer_id                                                                    \n",
       "1                     41        5/31/19             24  86000.0      11200.0   \n",
       "1                    358        6/18/19             13  74000.0      19000.0   \n",
       "1                    400        8/11/19             19  38000.0       8800.0   \n",
       "1                    424        3/13/19             15  77000.0      14300.0   \n",
       "1                    438       10/16/19             22  39000.0      20000.0   \n",
       "\n",
       "               company         sector                       industry  \\\n",
       "customer_id                                                            \n",
       "1            Bubblebox  Capital Goods  Military/Government/Technical   \n",
       "1            Bubblebox  Capital Goods  Military/Government/Technical   \n",
       "1            Bubblebox  Capital Goods  Military/Government/Technical   \n",
       "1            Bubblebox  Capital Goods  Military/Government/Technical   \n",
       "1            Bubblebox  Capital Goods  Military/Government/Technical   \n",
       "\n",
       "                                email          address       city state    zip  \n",
       "customer_id                                                                     \n",
       "1            kyerson0@bizjournals.com  76 Randy Circle  San Diego    CA  92170  \n",
       "1            kyerson0@bizjournals.com  76 Randy Circle  San Diego    CA  92170  \n",
       "1            kyerson0@bizjournals.com  76 Randy Circle  San Diego    CA  92170  \n",
       "1            kyerson0@bizjournals.com  76 Randy Circle  San Diego    CA  92170  \n",
       "1            kyerson0@bizjournals.com  76 Randy Circle  San Diego    CA  92170  "
      ]
     },
     "execution_count": 3,
     "metadata": {},
     "output_type": "execute_result"
    }
   ],
   "source": [
    "df = data_work.clean_values(df)\n",
    "df.head()"
   ]
  },
  {
   "cell_type": "code",
   "execution_count": 4,
   "metadata": {
    "ExecuteTime": {
     "end_time": "2020-11-09T20:35:46.940050Z",
     "start_time": "2020-11-09T20:35:46.881202Z"
    }
   },
   "outputs": [
    {
     "data": {
      "text/html": [
       "<div>\n",
       "<style scoped>\n",
       "    .dataframe tbody tr th:only-of-type {\n",
       "        vertical-align: middle;\n",
       "    }\n",
       "\n",
       "    .dataframe tbody tr th {\n",
       "        vertical-align: top;\n",
       "    }\n",
       "\n",
       "    .dataframe thead th {\n",
       "        text-align: right;\n",
       "    }\n",
       "</style>\n",
       "<table border=\"1\" class=\"dataframe\">\n",
       "  <thead>\n",
       "    <tr style=\"text-align: right;\">\n",
       "      <th></th>\n",
       "      <th>contract_id</th>\n",
       "      <th>contract_start</th>\n",
       "      <th>contract_term</th>\n",
       "      <th>deposit</th>\n",
       "      <th>monthly_amt</th>\n",
       "      <th>company</th>\n",
       "      <th>sector</th>\n",
       "      <th>industry</th>\n",
       "      <th>email</th>\n",
       "      <th>address</th>\n",
       "      <th>city</th>\n",
       "      <th>state</th>\n",
       "      <th>zip</th>\n",
       "      <th>monthly_total_revenue</th>\n",
       "      <th>total_revenue</th>\n",
       "    </tr>\n",
       "    <tr>\n",
       "      <th>customer_id</th>\n",
       "      <th></th>\n",
       "      <th></th>\n",
       "      <th></th>\n",
       "      <th></th>\n",
       "      <th></th>\n",
       "      <th></th>\n",
       "      <th></th>\n",
       "      <th></th>\n",
       "      <th></th>\n",
       "      <th></th>\n",
       "      <th></th>\n",
       "      <th></th>\n",
       "      <th></th>\n",
       "      <th></th>\n",
       "      <th></th>\n",
       "    </tr>\n",
       "  </thead>\n",
       "  <tbody>\n",
       "    <tr>\n",
       "      <th>1</th>\n",
       "      <td>41</td>\n",
       "      <td>5/31/19</td>\n",
       "      <td>24</td>\n",
       "      <td>86000.0</td>\n",
       "      <td>11200.0</td>\n",
       "      <td>Bubblebox</td>\n",
       "      <td>Capital Goods</td>\n",
       "      <td>Military/Government/Technical</td>\n",
       "      <td>kyerson0@bizjournals.com</td>\n",
       "      <td>76 Randy Circle</td>\n",
       "      <td>San Diego</td>\n",
       "      <td>CA</td>\n",
       "      <td>92170</td>\n",
       "      <td>268800.0</td>\n",
       "      <td>354800.0</td>\n",
       "    </tr>\n",
       "    <tr>\n",
       "      <th>1</th>\n",
       "      <td>358</td>\n",
       "      <td>6/18/19</td>\n",
       "      <td>13</td>\n",
       "      <td>74000.0</td>\n",
       "      <td>19000.0</td>\n",
       "      <td>Bubblebox</td>\n",
       "      <td>Capital Goods</td>\n",
       "      <td>Military/Government/Technical</td>\n",
       "      <td>kyerson0@bizjournals.com</td>\n",
       "      <td>76 Randy Circle</td>\n",
       "      <td>San Diego</td>\n",
       "      <td>CA</td>\n",
       "      <td>92170</td>\n",
       "      <td>247000.0</td>\n",
       "      <td>321000.0</td>\n",
       "    </tr>\n",
       "    <tr>\n",
       "      <th>1</th>\n",
       "      <td>400</td>\n",
       "      <td>8/11/19</td>\n",
       "      <td>19</td>\n",
       "      <td>38000.0</td>\n",
       "      <td>8800.0</td>\n",
       "      <td>Bubblebox</td>\n",
       "      <td>Capital Goods</td>\n",
       "      <td>Military/Government/Technical</td>\n",
       "      <td>kyerson0@bizjournals.com</td>\n",
       "      <td>76 Randy Circle</td>\n",
       "      <td>San Diego</td>\n",
       "      <td>CA</td>\n",
       "      <td>92170</td>\n",
       "      <td>167200.0</td>\n",
       "      <td>205200.0</td>\n",
       "    </tr>\n",
       "    <tr>\n",
       "      <th>1</th>\n",
       "      <td>424</td>\n",
       "      <td>3/13/19</td>\n",
       "      <td>15</td>\n",
       "      <td>77000.0</td>\n",
       "      <td>14300.0</td>\n",
       "      <td>Bubblebox</td>\n",
       "      <td>Capital Goods</td>\n",
       "      <td>Military/Government/Technical</td>\n",
       "      <td>kyerson0@bizjournals.com</td>\n",
       "      <td>76 Randy Circle</td>\n",
       "      <td>San Diego</td>\n",
       "      <td>CA</td>\n",
       "      <td>92170</td>\n",
       "      <td>214500.0</td>\n",
       "      <td>291500.0</td>\n",
       "    </tr>\n",
       "    <tr>\n",
       "      <th>1</th>\n",
       "      <td>438</td>\n",
       "      <td>10/16/19</td>\n",
       "      <td>22</td>\n",
       "      <td>39000.0</td>\n",
       "      <td>20000.0</td>\n",
       "      <td>Bubblebox</td>\n",
       "      <td>Capital Goods</td>\n",
       "      <td>Military/Government/Technical</td>\n",
       "      <td>kyerson0@bizjournals.com</td>\n",
       "      <td>76 Randy Circle</td>\n",
       "      <td>San Diego</td>\n",
       "      <td>CA</td>\n",
       "      <td>92170</td>\n",
       "      <td>440000.0</td>\n",
       "      <td>479000.0</td>\n",
       "    </tr>\n",
       "  </tbody>\n",
       "</table>\n",
       "</div>"
      ],
      "text/plain": [
       "             contract_id contract_start  contract_term  deposit  monthly_amt  \\\n",
       "customer_id                                                                    \n",
       "1                     41        5/31/19             24  86000.0      11200.0   \n",
       "1                    358        6/18/19             13  74000.0      19000.0   \n",
       "1                    400        8/11/19             19  38000.0       8800.0   \n",
       "1                    424        3/13/19             15  77000.0      14300.0   \n",
       "1                    438       10/16/19             22  39000.0      20000.0   \n",
       "\n",
       "               company         sector                       industry  \\\n",
       "customer_id                                                            \n",
       "1            Bubblebox  Capital Goods  Military/Government/Technical   \n",
       "1            Bubblebox  Capital Goods  Military/Government/Technical   \n",
       "1            Bubblebox  Capital Goods  Military/Government/Technical   \n",
       "1            Bubblebox  Capital Goods  Military/Government/Technical   \n",
       "1            Bubblebox  Capital Goods  Military/Government/Technical   \n",
       "\n",
       "                                email          address       city state  \\\n",
       "customer_id                                                               \n",
       "1            kyerson0@bizjournals.com  76 Randy Circle  San Diego    CA   \n",
       "1            kyerson0@bizjournals.com  76 Randy Circle  San Diego    CA   \n",
       "1            kyerson0@bizjournals.com  76 Randy Circle  San Diego    CA   \n",
       "1            kyerson0@bizjournals.com  76 Randy Circle  San Diego    CA   \n",
       "1            kyerson0@bizjournals.com  76 Randy Circle  San Diego    CA   \n",
       "\n",
       "               zip  monthly_total_revenue  total_revenue  \n",
       "customer_id                                               \n",
       "1            92170               268800.0       354800.0  \n",
       "1            92170               247000.0       321000.0  \n",
       "1            92170               167200.0       205200.0  \n",
       "1            92170               214500.0       291500.0  \n",
       "1            92170               440000.0       479000.0  "
      ]
     },
     "execution_count": 4,
     "metadata": {},
     "output_type": "execute_result"
    }
   ],
   "source": [
    "df = data_work.summary_calculations(df)\n",
    "df.head()"
   ]
  },
  {
   "cell_type": "code",
   "execution_count": 5,
   "metadata": {
    "ExecuteTime": {
     "end_time": "2020-11-09T20:36:02.117157Z",
     "start_time": "2020-11-09T20:35:46.971473Z"
    }
   },
   "outputs": [
    {
     "ename": "ValueError",
     "evalue": "time data '5/31/19' does not match format '%m/%d/%Y' (match)",
     "output_type": "error",
     "traceback": [
      "\u001b[0;31m---------------------------------------------------------------------------\u001b[0m",
      "\u001b[0;31mTypeError\u001b[0m                                 Traceback (most recent call last)",
      "\u001b[0;32m/opt/anaconda3/lib/python3.8/site-packages/pandas/core/tools/datetimes.py\u001b[0m in \u001b[0;36m_convert_listlike_datetimes\u001b[0;34m(arg, format, name, tz, unit, errors, infer_datetime_format, dayfirst, yearfirst, exact)\u001b[0m\n\u001b[1;32m    431\u001b[0m             \u001b[0;32mtry\u001b[0m\u001b[0;34m:\u001b[0m\u001b[0;34m\u001b[0m\u001b[0;34m\u001b[0m\u001b[0m\n\u001b[0;32m--> 432\u001b[0;31m                 \u001b[0mvalues\u001b[0m\u001b[0;34m,\u001b[0m \u001b[0mtz\u001b[0m \u001b[0;34m=\u001b[0m \u001b[0mconversion\u001b[0m\u001b[0;34m.\u001b[0m\u001b[0mdatetime_to_datetime64\u001b[0m\u001b[0;34m(\u001b[0m\u001b[0marg\u001b[0m\u001b[0;34m)\u001b[0m\u001b[0;34m\u001b[0m\u001b[0;34m\u001b[0m\u001b[0m\n\u001b[0m\u001b[1;32m    433\u001b[0m                 \u001b[0;32mreturn\u001b[0m \u001b[0mDatetimeIndex\u001b[0m\u001b[0;34m.\u001b[0m\u001b[0m_simple_new\u001b[0m\u001b[0;34m(\u001b[0m\u001b[0mvalues\u001b[0m\u001b[0;34m,\u001b[0m \u001b[0mname\u001b[0m\u001b[0;34m=\u001b[0m\u001b[0mname\u001b[0m\u001b[0;34m,\u001b[0m \u001b[0mtz\u001b[0m\u001b[0;34m=\u001b[0m\u001b[0mtz\u001b[0m\u001b[0;34m)\u001b[0m\u001b[0;34m\u001b[0m\u001b[0;34m\u001b[0m\u001b[0m\n",
      "\u001b[0;32mpandas/_libs/tslibs/conversion.pyx\u001b[0m in \u001b[0;36mpandas._libs.tslibs.conversion.datetime_to_datetime64\u001b[0;34m()\u001b[0m\n",
      "\u001b[0;31mTypeError\u001b[0m: Unrecognized value type: <class 'str'>",
      "\nDuring handling of the above exception, another exception occurred:\n",
      "\u001b[0;31mValueError\u001b[0m                                Traceback (most recent call last)",
      "\u001b[0;32m<ipython-input-5-a79b2d04e78c>\u001b[0m in \u001b[0;36m<module>\u001b[0;34m\u001b[0m\n\u001b[0;32m----> 1\u001b[0;31m \u001b[0mdf_detail\u001b[0m \u001b[0;34m=\u001b[0m \u001b[0mdata_work\u001b[0m\u001b[0;34m.\u001b[0m\u001b[0mdetail_calculations\u001b[0m\u001b[0;34m(\u001b[0m\u001b[0mdf\u001b[0m\u001b[0;34m)\u001b[0m\u001b[0;34m\u001b[0m\u001b[0;34m\u001b[0m\u001b[0m\n\u001b[0m\u001b[1;32m      2\u001b[0m \u001b[0mdf_detail\u001b[0m\u001b[0;34m.\u001b[0m\u001b[0mhead\u001b[0m\u001b[0;34m(\u001b[0m\u001b[0;34m)\u001b[0m\u001b[0;34m\u001b[0m\u001b[0;34m\u001b[0m\u001b[0m\n",
      "\u001b[0;32m~/Desktop/UNH/jupyter_notebooks/consulting_visuals-1/notebooks/data_work.py\u001b[0m in \u001b[0;36mdetail_calculations\u001b[0;34m(orig_df)\u001b[0m\n\u001b[1;32m     56\u001b[0m \u001b[0;34m\u001b[0m\u001b[0m\n\u001b[1;32m     57\u001b[0m \u001b[0;32mdef\u001b[0m \u001b[0mdetail_calculations\u001b[0m\u001b[0;34m(\u001b[0m\u001b[0morig_df\u001b[0m\u001b[0;34m)\u001b[0m\u001b[0;34m:\u001b[0m\u001b[0;34m\u001b[0m\u001b[0;34m\u001b[0m\u001b[0m\n\u001b[0;32m---> 58\u001b[0;31m     \u001b[0morig_df\u001b[0m\u001b[0;34m[\u001b[0m\u001b[0;34m'contract_start'\u001b[0m\u001b[0;34m]\u001b[0m \u001b[0;34m=\u001b[0m \u001b[0mpd\u001b[0m\u001b[0;34m.\u001b[0m\u001b[0mto_datetime\u001b[0m\u001b[0;34m(\u001b[0m\u001b[0morig_df\u001b[0m\u001b[0;34m[\u001b[0m\u001b[0;34m'contract_start'\u001b[0m\u001b[0;34m]\u001b[0m\u001b[0;34m,\u001b[0m \u001b[0mformat\u001b[0m\u001b[0;34m=\u001b[0m\u001b[0;34m'%m/%d/%Y'\u001b[0m\u001b[0;34m)\u001b[0m\u001b[0;34m\u001b[0m\u001b[0;34m\u001b[0m\u001b[0m\n\u001b[0m\u001b[1;32m     59\u001b[0m     \u001b[0morig_df\u001b[0m \u001b[0;34m=\u001b[0m \u001b[0morig_df\u001b[0m\u001b[0;34m.\u001b[0m\u001b[0mreset_index\u001b[0m\u001b[0;34m(\u001b[0m\u001b[0;34m)\u001b[0m\u001b[0;34m\u001b[0m\u001b[0;34m\u001b[0m\u001b[0m\n\u001b[1;32m     60\u001b[0m     \u001b[0minterim_df\u001b[0m \u001b[0;34m=\u001b[0m \u001b[0morig_df\u001b[0m\u001b[0;34m.\u001b[0m\u001b[0mapply\u001b[0m\u001b[0;34m(\u001b[0m\u001b[0;32mlambda\u001b[0m \u001b[0mx\u001b[0m\u001b[0;34m:\u001b[0m \u001b[0mexpand_timeline\u001b[0m\u001b[0;34m(\u001b[0m\u001b[0mx\u001b[0m\u001b[0;34m)\u001b[0m\u001b[0;34m,\u001b[0m \u001b[0maxis\u001b[0m\u001b[0;34m=\u001b[0m\u001b[0;36m1\u001b[0m\u001b[0;34m)\u001b[0m\u001b[0;34m\u001b[0m\u001b[0;34m\u001b[0m\u001b[0m\n",
      "\u001b[0;32m/opt/anaconda3/lib/python3.8/site-packages/pandas/core/tools/datetimes.py\u001b[0m in \u001b[0;36mto_datetime\u001b[0;34m(arg, errors, dayfirst, yearfirst, utc, format, exact, unit, infer_datetime_format, origin, cache)\u001b[0m\n\u001b[1;32m    726\u001b[0m             \u001b[0mresult\u001b[0m \u001b[0;34m=\u001b[0m \u001b[0marg\u001b[0m\u001b[0;34m.\u001b[0m\u001b[0mmap\u001b[0m\u001b[0;34m(\u001b[0m\u001b[0mcache_array\u001b[0m\u001b[0;34m)\u001b[0m\u001b[0;34m\u001b[0m\u001b[0;34m\u001b[0m\u001b[0m\n\u001b[1;32m    727\u001b[0m         \u001b[0;32melse\u001b[0m\u001b[0;34m:\u001b[0m\u001b[0;34m\u001b[0m\u001b[0;34m\u001b[0m\u001b[0m\n\u001b[0;32m--> 728\u001b[0;31m             \u001b[0mvalues\u001b[0m \u001b[0;34m=\u001b[0m \u001b[0mconvert_listlike\u001b[0m\u001b[0;34m(\u001b[0m\u001b[0marg\u001b[0m\u001b[0;34m.\u001b[0m\u001b[0m_values\u001b[0m\u001b[0;34m,\u001b[0m \u001b[0mformat\u001b[0m\u001b[0;34m)\u001b[0m\u001b[0;34m\u001b[0m\u001b[0;34m\u001b[0m\u001b[0m\n\u001b[0m\u001b[1;32m    729\u001b[0m             \u001b[0mresult\u001b[0m \u001b[0;34m=\u001b[0m \u001b[0marg\u001b[0m\u001b[0;34m.\u001b[0m\u001b[0m_constructor\u001b[0m\u001b[0;34m(\u001b[0m\u001b[0mvalues\u001b[0m\u001b[0;34m,\u001b[0m \u001b[0mindex\u001b[0m\u001b[0;34m=\u001b[0m\u001b[0marg\u001b[0m\u001b[0;34m.\u001b[0m\u001b[0mindex\u001b[0m\u001b[0;34m,\u001b[0m \u001b[0mname\u001b[0m\u001b[0;34m=\u001b[0m\u001b[0marg\u001b[0m\u001b[0;34m.\u001b[0m\u001b[0mname\u001b[0m\u001b[0;34m)\u001b[0m\u001b[0;34m\u001b[0m\u001b[0;34m\u001b[0m\u001b[0m\n\u001b[1;32m    730\u001b[0m     \u001b[0;32melif\u001b[0m \u001b[0misinstance\u001b[0m\u001b[0;34m(\u001b[0m\u001b[0marg\u001b[0m\u001b[0;34m,\u001b[0m \u001b[0;34m(\u001b[0m\u001b[0mABCDataFrame\u001b[0m\u001b[0;34m,\u001b[0m \u001b[0mabc\u001b[0m\u001b[0;34m.\u001b[0m\u001b[0mMutableMapping\u001b[0m\u001b[0;34m)\u001b[0m\u001b[0;34m)\u001b[0m\u001b[0;34m:\u001b[0m\u001b[0;34m\u001b[0m\u001b[0;34m\u001b[0m\u001b[0m\n",
      "\u001b[0;32m/opt/anaconda3/lib/python3.8/site-packages/pandas/core/tools/datetimes.py\u001b[0m in \u001b[0;36m_convert_listlike_datetimes\u001b[0;34m(arg, format, name, tz, unit, errors, infer_datetime_format, dayfirst, yearfirst, exact)\u001b[0m\n\u001b[1;32m    433\u001b[0m                 \u001b[0;32mreturn\u001b[0m \u001b[0mDatetimeIndex\u001b[0m\u001b[0;34m.\u001b[0m\u001b[0m_simple_new\u001b[0m\u001b[0;34m(\u001b[0m\u001b[0mvalues\u001b[0m\u001b[0;34m,\u001b[0m \u001b[0mname\u001b[0m\u001b[0;34m=\u001b[0m\u001b[0mname\u001b[0m\u001b[0;34m,\u001b[0m \u001b[0mtz\u001b[0m\u001b[0;34m=\u001b[0m\u001b[0mtz\u001b[0m\u001b[0;34m)\u001b[0m\u001b[0;34m\u001b[0m\u001b[0;34m\u001b[0m\u001b[0m\n\u001b[1;32m    434\u001b[0m             \u001b[0;32mexcept\u001b[0m \u001b[0;34m(\u001b[0m\u001b[0mValueError\u001b[0m\u001b[0;34m,\u001b[0m \u001b[0mTypeError\u001b[0m\u001b[0;34m)\u001b[0m\u001b[0;34m:\u001b[0m\u001b[0;34m\u001b[0m\u001b[0;34m\u001b[0m\u001b[0m\n\u001b[0;32m--> 435\u001b[0;31m                 \u001b[0;32mraise\u001b[0m \u001b[0me\u001b[0m\u001b[0;34m\u001b[0m\u001b[0;34m\u001b[0m\u001b[0m\n\u001b[0m\u001b[1;32m    436\u001b[0m \u001b[0;34m\u001b[0m\u001b[0m\n\u001b[1;32m    437\u001b[0m     \u001b[0;32mif\u001b[0m \u001b[0mresult\u001b[0m \u001b[0;32mis\u001b[0m \u001b[0;32mNone\u001b[0m\u001b[0;34m:\u001b[0m\u001b[0;34m\u001b[0m\u001b[0;34m\u001b[0m\u001b[0m\n",
      "\u001b[0;32m/opt/anaconda3/lib/python3.8/site-packages/pandas/core/tools/datetimes.py\u001b[0m in \u001b[0;36m_convert_listlike_datetimes\u001b[0;34m(arg, format, name, tz, unit, errors, infer_datetime_format, dayfirst, yearfirst, exact)\u001b[0m\n\u001b[1;32m    397\u001b[0m             \u001b[0;32mif\u001b[0m \u001b[0mresult\u001b[0m \u001b[0;32mis\u001b[0m \u001b[0;32mNone\u001b[0m\u001b[0;34m:\u001b[0m\u001b[0;34m\u001b[0m\u001b[0;34m\u001b[0m\u001b[0m\n\u001b[1;32m    398\u001b[0m                 \u001b[0;32mtry\u001b[0m\u001b[0;34m:\u001b[0m\u001b[0;34m\u001b[0m\u001b[0;34m\u001b[0m\u001b[0m\n\u001b[0;32m--> 399\u001b[0;31m                     result, timezones = array_strptime(\n\u001b[0m\u001b[1;32m    400\u001b[0m                         \u001b[0marg\u001b[0m\u001b[0;34m,\u001b[0m \u001b[0mformat\u001b[0m\u001b[0;34m,\u001b[0m \u001b[0mexact\u001b[0m\u001b[0;34m=\u001b[0m\u001b[0mexact\u001b[0m\u001b[0;34m,\u001b[0m \u001b[0merrors\u001b[0m\u001b[0;34m=\u001b[0m\u001b[0merrors\u001b[0m\u001b[0;34m\u001b[0m\u001b[0;34m\u001b[0m\u001b[0m\n\u001b[1;32m    401\u001b[0m                     )\n",
      "\u001b[0;32mpandas/_libs/tslibs/strptime.pyx\u001b[0m in \u001b[0;36mpandas._libs.tslibs.strptime.array_strptime\u001b[0;34m()\u001b[0m\n",
      "\u001b[0;31mValueError\u001b[0m: time data '5/31/19' does not match format '%m/%d/%Y' (match)"
     ]
    }
   ],
   "source": [
    "df_detail = data_work.detail_calculations(df)\n",
    "df_detail.head()"
   ]
  },
  {
   "cell_type": "code",
   "execution_count": 6,
   "metadata": {
    "ExecuteTime": {
     "end_time": "2020-11-09T20:36:02.154066Z",
     "start_time": "2020-11-09T20:36:02.133115Z"
    }
   },
   "outputs": [
    {
     "ename": "NameError",
     "evalue": "name 'df_detail' is not defined",
     "output_type": "error",
     "traceback": [
      "\u001b[0;31m---------------------------------------------------------------------------\u001b[0m",
      "\u001b[0;31mNameError\u001b[0m                                 Traceback (most recent call last)",
      "\u001b[0;32m<ipython-input-6-b6bf6a3e57af>\u001b[0m in \u001b[0;36m<module>\u001b[0;34m\u001b[0m\n\u001b[0;32m----> 1\u001b[0;31m \u001b[0mdf_detail\u001b[0m\u001b[0;34m.\u001b[0m\u001b[0mtail\u001b[0m\u001b[0;34m(\u001b[0m\u001b[0;34m)\u001b[0m\u001b[0;34m\u001b[0m\u001b[0;34m\u001b[0m\u001b[0m\n\u001b[0m",
      "\u001b[0;31mNameError\u001b[0m: name 'df_detail' is not defined"
     ]
    }
   ],
   "source": [
    "df_detail.tail()"
   ]
  },
  {
   "cell_type": "code",
   "execution_count": 7,
   "metadata": {
    "ExecuteTime": {
     "end_time": "2020-11-09T20:36:02.460749Z",
     "start_time": "2020-11-09T20:36:02.158558Z"
    }
   },
   "outputs": [
    {
     "ename": "NameError",
     "evalue": "name 'df_detail' is not defined",
     "output_type": "error",
     "traceback": [
      "\u001b[0;31m---------------------------------------------------------------------------\u001b[0m",
      "\u001b[0;31mNameError\u001b[0m                                 Traceback (most recent call last)",
      "\u001b[0;32m<ipython-input-7-e566d46ee89f>\u001b[0m in \u001b[0;36m<module>\u001b[0;34m\u001b[0m\n\u001b[0;32m----> 1\u001b[0;31m \u001b[0mdf_detail\u001b[0m\u001b[0;34m[\u001b[0m\u001b[0;34m'amt_due'\u001b[0m\u001b[0;34m]\u001b[0m\u001b[0;34m.\u001b[0m\u001b[0mplot\u001b[0m\u001b[0;34m(\u001b[0m\u001b[0;34m)\u001b[0m\u001b[0;34m\u001b[0m\u001b[0;34m\u001b[0m\u001b[0m\n\u001b[0m",
      "\u001b[0;31mNameError\u001b[0m: name 'df_detail' is not defined"
     ]
    }
   ],
   "source": [
    "df_detail['amt_due'].plot()"
   ]
  },
  {
   "cell_type": "code",
   "execution_count": null,
   "metadata": {
    "ExecuteTime": {
     "end_time": "2020-11-09T20:36:02.686148Z",
     "start_time": "2020-11-09T20:36:02.463742Z"
    }
   },
   "outputs": [],
   "source": [
    "df_detail.loc[df_detail['deposit'], 'amt_due'].plot()"
   ]
  },
  {
   "cell_type": "code",
   "execution_count": null,
   "metadata": {
    "ExecuteTime": {
     "end_time": "2020-11-09T20:36:02.952435Z",
     "start_time": "2020-11-09T20:36:02.691139Z"
    }
   },
   "outputs": [],
   "source": [
    "df_detail.loc[(\n",
    "    (df_detail['deposit'] == False) &\n",
    "    (df_detail['contract_id'] == 974)\n",
    "), 'amt_due'].plot()"
   ]
  },
  {
   "cell_type": "code",
   "execution_count": null,
   "metadata": {
    "ExecuteTime": {
     "end_time": "2020-11-09T20:36:03.209258Z",
     "start_time": "2020-11-09T20:36:02.957422Z"
    },
    "scrolled": true
   },
   "outputs": [],
   "source": [
    "df_detail.loc[(\n",
    "    (df_detail['deposit'] == False) &\n",
    "    (df_detail['industry'] == 'Television Services')\n",
    "), 'amt_due'].plot()"
   ]
  },
  {
   "cell_type": "code",
   "execution_count": null,
   "metadata": {
    "ExecuteTime": {
     "end_time": "2020-11-09T20:36:03.565306Z",
     "start_time": "2020-11-09T20:36:03.214246Z"
    },
    "scrolled": true
   },
   "outputs": [],
   "source": [
    "df_detail.groupby('state').agg({'amt_due':'sum'}).plot.bar(y = 'amt_due', x= 'state')"
   ]
  },
  {
   "cell_type": "code",
   "execution_count": null,
   "metadata": {
    "ExecuteTime": {
     "end_time": "2020-11-09T20:36:30.282025Z",
     "start_time": "2020-11-09T20:36:29.836217Z"
    }
   },
   "outputs": [],
   "source": [
    "df_detail.groupby('state', as_index=False).agg({'amt_due':'sum'}).plot.bar(y = 'amt_due', x= 'state')"
   ]
  },
  {
   "cell_type": "code",
   "execution_count": null,
   "metadata": {
    "ExecuteTime": {
     "end_time": "2020-11-09T20:36:31.760120Z",
     "start_time": "2020-11-09T20:36:31.329273Z"
    }
   },
   "outputs": [],
   "source": [
    "df_detail.groupby('state', as_index=False).agg({'amt_due':'sum'}).sort_values('amt_due').plot.bar(y = 'amt_due', x= 'state')"
   ]
  },
  {
   "cell_type": "code",
   "execution_count": null,
   "metadata": {
    "ExecuteTime": {
     "end_time": "2020-11-09T20:36:33.306034Z",
     "start_time": "2020-11-09T20:36:33.256167Z"
    }
   },
   "outputs": [],
   "source": [
    "df_v = df_detail.reset_index()\n",
    "df_v['year'] = df_v['due_date'].dt.year\n",
    "df_v['month'] = df_v['due_date'].dt.month\n",
    "df_v.head()"
   ]
  },
  {
   "cell_type": "code",
   "execution_count": null,
   "metadata": {
    "ExecuteTime": {
     "end_time": "2020-11-09T20:36:35.304218Z",
     "start_time": "2020-11-09T20:36:35.105239Z"
    }
   },
   "outputs": [],
   "source": [
    "df_v.groupby(['year', 'month']).agg({'amt_due':sum}).plot()"
   ]
  },
  {
   "cell_type": "code",
   "execution_count": null,
   "metadata": {
    "ExecuteTime": {
     "end_time": "2020-11-09T20:36:37.296404Z",
     "start_time": "2020-11-09T20:36:37.024133Z"
    }
   },
   "outputs": [],
   "source": [
    "df_v.groupby(['year', 'month']).agg({'amt_due':sum}).plot(figsize=(20, 10))"
   ]
  },
  {
   "cell_type": "code",
   "execution_count": null,
   "metadata": {
    "ExecuteTime": {
     "end_time": "2020-11-09T20:36:45.937949Z",
     "start_time": "2020-11-09T20:36:45.602341Z"
    }
   },
   "outputs": [],
   "source": [
    "fmt = '${x:,.0f}'\n",
    "tick = mtick.StrMethodFormatter(fmt)\n",
    "\n",
    "df_v.groupby(['year', 'month']).agg({'amt_due':sum}).plot(figsize=(20, 10)).yaxis.set_major_formatter(tick)\n",
    "plt.xticks(rotation=45)"
   ]
  }
 ],
 "metadata": {
  "kernelspec": {
   "display_name": "Python 3",
   "language": "python",
   "name": "python3"
  },
  "language_info": {
   "codemirror_mode": {
    "name": "ipython",
    "version": 3
   },
   "file_extension": ".py",
   "mimetype": "text/x-python",
   "name": "python",
   "nbconvert_exporter": "python",
   "pygments_lexer": "ipython3",
   "version": "3.8.3"
  },
  "toc": {
   "base_numbering": 1,
   "nav_menu": {},
   "number_sections": true,
   "sideBar": true,
   "skip_h1_title": false,
   "title_cell": "Table of Contents",
   "title_sidebar": "Contents",
   "toc_cell": false,
   "toc_position": {},
   "toc_section_display": true,
   "toc_window_display": false
  },
  "varInspector": {
   "cols": {
    "lenName": 16,
    "lenType": 16,
    "lenVar": 40
   },
   "kernels_config": {
    "python": {
     "delete_cmd_postfix": "",
     "delete_cmd_prefix": "del ",
     "library": "var_list.py",
     "varRefreshCmd": "print(var_dic_list())"
    },
    "r": {
     "delete_cmd_postfix": ") ",
     "delete_cmd_prefix": "rm(",
     "library": "var_list.r",
     "varRefreshCmd": "cat(var_dic_list()) "
    }
   },
   "types_to_exclude": [
    "module",
    "function",
    "builtin_function_or_method",
    "instance",
    "_Feature"
   ],
   "window_display": false
  }
 },
 "nbformat": 4,
 "nbformat_minor": 4
}
