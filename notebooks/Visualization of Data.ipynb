{
 "cells": [
  {
   "cell_type": "code",
   "execution_count": 1,
   "metadata": {
    "ExecuteTime": {
     "end_time": "2020-11-09T20:35:46.737585Z",
     "start_time": "2020-11-09T20:35:44.996685Z"
    }
   },
   "outputs": [],
   "source": [
    "import pandas as pd\n",
    "import data_work \n",
    "from datetime import timedelta\n",
    "import matplotlib.pyplot as plt\n",
    "import matplotlib.ticker as mtick\n",
    "%matplotlib inline\n",
    "\n"
   ]
  },
  {
   "cell_type": "code",
   "execution_count": 2,
   "metadata": {
    "ExecuteTime": {
     "end_time": "2020-11-09T20:36:02.117157Z",
     "start_time": "2020-11-09T20:35:46.971473Z"
    }
   },
   "outputs": [],
   "source": [
    "df = data_work.load_data()\n",
    "df = data_work.clean_values(df)\n",
    "\n",
    "summary = data_work.summary_calculations(df)\n",
    "\n",
    "df_detail = data_work.detail_calculations(df)\n",
    "\n",
    "df_time = df_detail.reset_index()\n",
    "df_time['year'] = df_time['due_date'].dt.year\n",
    "df_time['month'] = df_time['due_date'].dt.month"
   ]
  },
  {
   "cell_type": "code",
   "execution_count": 3,
   "metadata": {},
   "outputs": [
    {
     "data": {
      "text/html": [
       "<div>\n",
       "<style scoped>\n",
       "    .dataframe tbody tr th:only-of-type {\n",
       "        vertical-align: middle;\n",
       "    }\n",
       "\n",
       "    .dataframe tbody tr th {\n",
       "        vertical-align: top;\n",
       "    }\n",
       "\n",
       "    .dataframe thead th {\n",
       "        text-align: right;\n",
       "    }\n",
       "</style>\n",
       "<table border=\"1\" class=\"dataframe\">\n",
       "  <thead>\n",
       "    <tr style=\"text-align: right;\">\n",
       "      <th></th>\n",
       "      <th>due_date</th>\n",
       "      <th>customer_id</th>\n",
       "      <th>contract_id</th>\n",
       "      <th>deposit</th>\n",
       "      <th>amt_due</th>\n",
       "      <th>company</th>\n",
       "      <th>sector</th>\n",
       "      <th>industry</th>\n",
       "      <th>email</th>\n",
       "      <th>address</th>\n",
       "      <th>city</th>\n",
       "      <th>state</th>\n",
       "      <th>zip</th>\n",
       "      <th>year</th>\n",
       "      <th>month</th>\n",
       "    </tr>\n",
       "  </thead>\n",
       "  <tbody>\n",
       "    <tr>\n",
       "      <th>0</th>\n",
       "      <td>2019-01-01</td>\n",
       "      <td>20</td>\n",
       "      <td>60</td>\n",
       "      <td>False</td>\n",
       "      <td>11900.0</td>\n",
       "      <td>Omba</td>\n",
       "      <td>NaN</td>\n",
       "      <td>NaN</td>\n",
       "      <td>ctreblej@ifeng.com</td>\n",
       "      <td>2120 Kensington Center</td>\n",
       "      <td>Seattle</td>\n",
       "      <td>WA</td>\n",
       "      <td>98185</td>\n",
       "      <td>2019</td>\n",
       "      <td>1</td>\n",
       "    </tr>\n",
       "    <tr>\n",
       "      <th>1</th>\n",
       "      <td>2019-01-01</td>\n",
       "      <td>90</td>\n",
       "      <td>392</td>\n",
       "      <td>True</td>\n",
       "      <td>67000.0</td>\n",
       "      <td>Brightbean</td>\n",
       "      <td>Health Care</td>\n",
       "      <td>Biotechnology: Biological Products (No Diagnos...</td>\n",
       "      <td>ncoaten2h@altervista.org</td>\n",
       "      <td>11712 Elgar Center</td>\n",
       "      <td>Portland</td>\n",
       "      <td>OR</td>\n",
       "      <td>97206</td>\n",
       "      <td>2019</td>\n",
       "      <td>1</td>\n",
       "    </tr>\n",
       "    <tr>\n",
       "      <th>2</th>\n",
       "      <td>2019-01-01</td>\n",
       "      <td>90</td>\n",
       "      <td>392</td>\n",
       "      <td>False</td>\n",
       "      <td>7700.0</td>\n",
       "      <td>Brightbean</td>\n",
       "      <td>Health Care</td>\n",
       "      <td>Biotechnology: Biological Products (No Diagnos...</td>\n",
       "      <td>ncoaten2h@altervista.org</td>\n",
       "      <td>11712 Elgar Center</td>\n",
       "      <td>Portland</td>\n",
       "      <td>OR</td>\n",
       "      <td>97206</td>\n",
       "      <td>2019</td>\n",
       "      <td>1</td>\n",
       "    </tr>\n",
       "    <tr>\n",
       "      <th>3</th>\n",
       "      <td>2019-01-01</td>\n",
       "      <td>168</td>\n",
       "      <td>627</td>\n",
       "      <td>True</td>\n",
       "      <td>78000.0</td>\n",
       "      <td>Leenti</td>\n",
       "      <td>Consumer Services</td>\n",
       "      <td>Television Services</td>\n",
       "      <td>ndoone4n@go.com</td>\n",
       "      <td>471 Northwestern Way</td>\n",
       "      <td>Cincinnati</td>\n",
       "      <td>OH</td>\n",
       "      <td>45208</td>\n",
       "      <td>2019</td>\n",
       "      <td>1</td>\n",
       "    </tr>\n",
       "    <tr>\n",
       "      <th>4</th>\n",
       "      <td>2019-01-01</td>\n",
       "      <td>168</td>\n",
       "      <td>627</td>\n",
       "      <td>False</td>\n",
       "      <td>18700.0</td>\n",
       "      <td>Leenti</td>\n",
       "      <td>Consumer Services</td>\n",
       "      <td>Television Services</td>\n",
       "      <td>ndoone4n@go.com</td>\n",
       "      <td>471 Northwestern Way</td>\n",
       "      <td>Cincinnati</td>\n",
       "      <td>OH</td>\n",
       "      <td>45208</td>\n",
       "      <td>2019</td>\n",
       "      <td>1</td>\n",
       "    </tr>\n",
       "    <tr>\n",
       "      <th>...</th>\n",
       "      <td>...</td>\n",
       "      <td>...</td>\n",
       "      <td>...</td>\n",
       "      <td>...</td>\n",
       "      <td>...</td>\n",
       "      <td>...</td>\n",
       "      <td>...</td>\n",
       "      <td>...</td>\n",
       "      <td>...</td>\n",
       "      <td>...</td>\n",
       "      <td>...</td>\n",
       "      <td>...</td>\n",
       "      <td>...</td>\n",
       "      <td>...</td>\n",
       "      <td>...</td>\n",
       "    </tr>\n",
       "    <tr>\n",
       "      <th>13143</th>\n",
       "      <td>2021-09-14</td>\n",
       "      <td>4</td>\n",
       "      <td>378</td>\n",
       "      <td>False</td>\n",
       "      <td>15700.0</td>\n",
       "      <td>Viva</td>\n",
       "      <td>Health Care</td>\n",
       "      <td>Major Pharmaceuticals</td>\n",
       "      <td>wgiovanitti3@nytimes.com</td>\n",
       "      <td>074 Center Place</td>\n",
       "      <td>Topeka</td>\n",
       "      <td>KS</td>\n",
       "      <td>66667</td>\n",
       "      <td>2021</td>\n",
       "      <td>9</td>\n",
       "    </tr>\n",
       "    <tr>\n",
       "      <th>13144</th>\n",
       "      <td>2021-09-14</td>\n",
       "      <td>107</td>\n",
       "      <td>974</td>\n",
       "      <td>False</td>\n",
       "      <td>19900.0</td>\n",
       "      <td>Flashset</td>\n",
       "      <td>Health Care</td>\n",
       "      <td>Medical Specialities</td>\n",
       "      <td>mstummeyer2y@npr.org</td>\n",
       "      <td>236 Weeping Birch Parkway</td>\n",
       "      <td>Dallas</td>\n",
       "      <td>TX</td>\n",
       "      <td>75216</td>\n",
       "      <td>2021</td>\n",
       "      <td>9</td>\n",
       "    </tr>\n",
       "    <tr>\n",
       "      <th>13145</th>\n",
       "      <td>2021-09-25</td>\n",
       "      <td>183</td>\n",
       "      <td>364</td>\n",
       "      <td>False</td>\n",
       "      <td>18600.0</td>\n",
       "      <td>Bubblebox</td>\n",
       "      <td>Finance</td>\n",
       "      <td>Major Banks</td>\n",
       "      <td>kklageman52@about.me</td>\n",
       "      <td>6298 Maryland Center</td>\n",
       "      <td>Erie</td>\n",
       "      <td>PA</td>\n",
       "      <td>16510</td>\n",
       "      <td>2021</td>\n",
       "      <td>9</td>\n",
       "    </tr>\n",
       "    <tr>\n",
       "      <th>13146</th>\n",
       "      <td>2021-09-25</td>\n",
       "      <td>172</td>\n",
       "      <td>43</td>\n",
       "      <td>False</td>\n",
       "      <td>19700.0</td>\n",
       "      <td>Brainsphere</td>\n",
       "      <td>Health Care</td>\n",
       "      <td>Medical/Dental Instruments</td>\n",
       "      <td>sassur4r@bloglovin.com</td>\n",
       "      <td>5881 Ruskin Circle</td>\n",
       "      <td>Portland</td>\n",
       "      <td>OR</td>\n",
       "      <td>97206</td>\n",
       "      <td>2021</td>\n",
       "      <td>9</td>\n",
       "    </tr>\n",
       "    <tr>\n",
       "      <th>13147</th>\n",
       "      <td>2021-10-04</td>\n",
       "      <td>29</td>\n",
       "      <td>509</td>\n",
       "      <td>False</td>\n",
       "      <td>9400.0</td>\n",
       "      <td>Yodoo</td>\n",
       "      <td>NaN</td>\n",
       "      <td>NaN</td>\n",
       "      <td>lwinstanleys@noaa.gov</td>\n",
       "      <td>3 Oneill Court</td>\n",
       "      <td>Tucson</td>\n",
       "      <td>AZ</td>\n",
       "      <td>85715</td>\n",
       "      <td>2021</td>\n",
       "      <td>10</td>\n",
       "    </tr>\n",
       "  </tbody>\n",
       "</table>\n",
       "<p>13148 rows × 15 columns</p>\n",
       "</div>"
      ],
      "text/plain": [
       "        due_date  customer_id  contract_id  deposit  amt_due      company  \\\n",
       "0     2019-01-01           20           60    False  11900.0         Omba   \n",
       "1     2019-01-01           90          392     True  67000.0   Brightbean   \n",
       "2     2019-01-01           90          392    False   7700.0   Brightbean   \n",
       "3     2019-01-01          168          627     True  78000.0       Leenti   \n",
       "4     2019-01-01          168          627    False  18700.0       Leenti   \n",
       "...          ...          ...          ...      ...      ...          ...   \n",
       "13143 2021-09-14            4          378    False  15700.0         Viva   \n",
       "13144 2021-09-14          107          974    False  19900.0     Flashset   \n",
       "13145 2021-09-25          183          364    False  18600.0    Bubblebox   \n",
       "13146 2021-09-25          172           43    False  19700.0  Brainsphere   \n",
       "13147 2021-10-04           29          509    False   9400.0        Yodoo   \n",
       "\n",
       "                  sector                                           industry  \\\n",
       "0                    NaN                                                NaN   \n",
       "1            Health Care  Biotechnology: Biological Products (No Diagnos...   \n",
       "2            Health Care  Biotechnology: Biological Products (No Diagnos...   \n",
       "3      Consumer Services                                Television Services   \n",
       "4      Consumer Services                                Television Services   \n",
       "...                  ...                                                ...   \n",
       "13143        Health Care                              Major Pharmaceuticals   \n",
       "13144        Health Care                               Medical Specialities   \n",
       "13145            Finance                                        Major Banks   \n",
       "13146        Health Care                         Medical/Dental Instruments   \n",
       "13147                NaN                                                NaN   \n",
       "\n",
       "                          email                    address        city state  \\\n",
       "0            ctreblej@ifeng.com     2120 Kensington Center     Seattle    WA   \n",
       "1      ncoaten2h@altervista.org         11712 Elgar Center    Portland    OR   \n",
       "2      ncoaten2h@altervista.org         11712 Elgar Center    Portland    OR   \n",
       "3               ndoone4n@go.com       471 Northwestern Way  Cincinnati    OH   \n",
       "4               ndoone4n@go.com       471 Northwestern Way  Cincinnati    OH   \n",
       "...                         ...                        ...         ...   ...   \n",
       "13143  wgiovanitti3@nytimes.com           074 Center Place      Topeka    KS   \n",
       "13144      mstummeyer2y@npr.org  236 Weeping Birch Parkway      Dallas    TX   \n",
       "13145      kklageman52@about.me       6298 Maryland Center        Erie    PA   \n",
       "13146    sassur4r@bloglovin.com         5881 Ruskin Circle    Portland    OR   \n",
       "13147     lwinstanleys@noaa.gov             3 Oneill Court      Tucson    AZ   \n",
       "\n",
       "         zip  year  month  \n",
       "0      98185  2019      1  \n",
       "1      97206  2019      1  \n",
       "2      97206  2019      1  \n",
       "3      45208  2019      1  \n",
       "4      45208  2019      1  \n",
       "...      ...   ...    ...  \n",
       "13143  66667  2021      9  \n",
       "13144  75216  2021      9  \n",
       "13145  16510  2021      9  \n",
       "13146  97206  2021      9  \n",
       "13147  85715  2021     10  \n",
       "\n",
       "[13148 rows x 15 columns]"
      ]
     },
     "execution_count": 3,
     "metadata": {},
     "output_type": "execute_result"
    }
   ],
   "source": [
    "df_time"
   ]
  },
  {
   "cell_type": "code",
   "execution_count": null,
   "metadata": {
    "ExecuteTime": {
     "end_time": "2020-11-09T20:36:02.154066Z",
     "start_time": "2020-11-09T20:36:02.133115Z"
    }
   },
   "outputs": [],
   "source": [
    "df_detail.tail()"
   ]
  },
  {
   "cell_type": "code",
   "execution_count": null,
   "metadata": {},
   "outputs": [],
   "source": []
  },
  {
   "cell_type": "code",
   "execution_count": null,
   "metadata": {
    "ExecuteTime": {
     "end_time": "2020-11-09T20:36:02.460749Z",
     "start_time": "2020-11-09T20:36:02.158558Z"
    }
   },
   "outputs": [],
   "source": [
    "df_detail['amt_due'].plot()"
   ]
  },
  {
   "cell_type": "code",
   "execution_count": null,
   "metadata": {
    "ExecuteTime": {
     "end_time": "2020-11-09T20:36:02.686148Z",
     "start_time": "2020-11-09T20:36:02.463742Z"
    }
   },
   "outputs": [],
   "source": [
    "df_detail.loc[df_detail['deposit'], 'amt_due'].plot()"
   ]
  },
  {
   "cell_type": "code",
   "execution_count": null,
   "metadata": {
    "ExecuteTime": {
     "end_time": "2020-11-09T20:36:02.952435Z",
     "start_time": "2020-11-09T20:36:02.691139Z"
    }
   },
   "outputs": [],
   "source": [
    "df_detail.loc[(\n",
    "    (df_detail['deposit'] == False) &\n",
    "    (df_detail['contract_id'] == 974)\n",
    "), 'amt_due'].plot()"
   ]
  },
  {
   "cell_type": "code",
   "execution_count": null,
   "metadata": {
    "ExecuteTime": {
     "end_time": "2020-11-09T20:36:03.209258Z",
     "start_time": "2020-11-09T20:36:02.957422Z"
    },
    "scrolled": true
   },
   "outputs": [],
   "source": [
    "df_detail.loc[(\n",
    "    (df_detail['deposit'] == False) &\n",
    "    (df_detail['industry'] == 'Television Services')\n",
    "), 'amt_due'].plot()"
   ]
  },
  {
   "cell_type": "code",
   "execution_count": null,
   "metadata": {
    "ExecuteTime": {
     "end_time": "2020-11-09T20:36:03.565306Z",
     "start_time": "2020-11-09T20:36:03.214246Z"
    },
    "scrolled": true
   },
   "outputs": [],
   "source": [
    "df_detail.groupby('state').agg({'amt_due':'sum'}).plot.bar(y = 'amt_due', x= 'state')"
   ]
  },
  {
   "cell_type": "code",
   "execution_count": null,
   "metadata": {
    "ExecuteTime": {
     "end_time": "2020-11-09T20:36:30.282025Z",
     "start_time": "2020-11-09T20:36:29.836217Z"
    }
   },
   "outputs": [],
   "source": [
    "df_detail.groupby('state', as_index=False).agg({'amt_due':'sum'}).plot.bar(y = 'amt_due', x= 'state')"
   ]
  },
  {
   "cell_type": "code",
   "execution_count": null,
   "metadata": {
    "ExecuteTime": {
     "end_time": "2020-11-09T20:36:31.760120Z",
     "start_time": "2020-11-09T20:36:31.329273Z"
    }
   },
   "outputs": [],
   "source": [
    "df_detail.groupby('state', as_index=False).agg({'amt_due':'sum'}).sort_values('amt_due').plot.bar(y = 'amt_due', x= 'state')"
   ]
  },
  {
   "cell_type": "code",
   "execution_count": null,
   "metadata": {
    "ExecuteTime": {
     "end_time": "2020-11-09T20:36:33.306034Z",
     "start_time": "2020-11-09T20:36:33.256167Z"
    }
   },
   "outputs": [],
   "source": [
    "df_v = df_detail.reset_index()\n",
    "df_v['year'] = df_v['due_date'].dt.year\n",
    "df_v['month'] = df_v['due_date'].dt.month\n",
    "df_v.head()"
   ]
  },
  {
   "cell_type": "code",
   "execution_count": null,
   "metadata": {
    "ExecuteTime": {
     "end_time": "2020-11-09T20:36:35.304218Z",
     "start_time": "2020-11-09T20:36:35.105239Z"
    }
   },
   "outputs": [],
   "source": [
    "df_v.groupby(['year', 'month']).agg({'amt_due':sum}).plot()"
   ]
  },
  {
   "cell_type": "code",
   "execution_count": null,
   "metadata": {
    "ExecuteTime": {
     "end_time": "2020-11-09T20:36:37.296404Z",
     "start_time": "2020-11-09T20:36:37.024133Z"
    }
   },
   "outputs": [],
   "source": [
    "df_v.groupby(['year', 'month']).agg({'amt_due':sum}).plot(figsize=(20, 10))"
   ]
  },
  {
   "cell_type": "code",
   "execution_count": null,
   "metadata": {
    "ExecuteTime": {
     "end_time": "2020-11-09T20:36:45.937949Z",
     "start_time": "2020-11-09T20:36:45.602341Z"
    }
   },
   "outputs": [],
   "source": [
    "fmt = '${x:,.0f}'\n",
    "tick = mtick.StrMethodFormatter(fmt)\n",
    "\n",
    "df_v.groupby(['year', 'month']).agg({'amt_due':sum}).plot(figsize=(20, 10)).yaxis.set_major_formatter(tick)\n",
    "plt.xticks(rotation=45)"
   ]
  }
 ],
 "metadata": {
  "kernelspec": {
   "display_name": "Python 3",
   "language": "python",
   "name": "python3"
  },
  "language_info": {
   "codemirror_mode": {
    "name": "ipython",
    "version": 3
   },
   "file_extension": ".py",
   "mimetype": "text/x-python",
   "name": "python",
   "nbconvert_exporter": "python",
   "pygments_lexer": "ipython3",
   "version": "3.8.3"
  },
  "toc": {
   "base_numbering": 1,
   "nav_menu": {},
   "number_sections": true,
   "sideBar": true,
   "skip_h1_title": false,
   "title_cell": "Table of Contents",
   "title_sidebar": "Contents",
   "toc_cell": false,
   "toc_position": {},
   "toc_section_display": true,
   "toc_window_display": false
  },
  "varInspector": {
   "cols": {
    "lenName": 16,
    "lenType": 16,
    "lenVar": 40
   },
   "kernels_config": {
    "python": {
     "delete_cmd_postfix": "",
     "delete_cmd_prefix": "del ",
     "library": "var_list.py",
     "varRefreshCmd": "print(var_dic_list())"
    },
    "r": {
     "delete_cmd_postfix": ") ",
     "delete_cmd_prefix": "rm(",
     "library": "var_list.r",
     "varRefreshCmd": "cat(var_dic_list()) "
    }
   },
   "types_to_exclude": [
    "module",
    "function",
    "builtin_function_or_method",
    "instance",
    "_Feature"
   ],
   "window_display": false
  }
 },
 "nbformat": 4,
 "nbformat_minor": 4
}
